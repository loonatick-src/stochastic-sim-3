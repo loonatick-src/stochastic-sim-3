{
 "cells": [
  {
   "cell_type": "code",
   "execution_count": 1,
   "metadata": {},
   "outputs": [],
   "source": [
    "import numpy as np\n",
    "\n",
    "from assignment.util import *\n",
    "from assignment.TSP import *\n",
    "from assignment.cooling import *\n",
    "from assignment.SAMinimizer import *"
   ]
  },
  {
   "cell_type": "code",
   "execution_count": 2,
   "metadata": {},
   "outputs": [],
   "source": [
    "cost_eil51, cost_a280, cost_pcb442 = map(first, COST_FUNCTION_PAIRS)\n",
    "delta_cost_eil51, delta_cost_a280, delta_cost_pcb442 = map(second, COST_FUNCTION_PAIRS)"
   ]
  },
  {
   "cell_type": "code",
   "execution_count": 3,
   "metadata": {},
   "outputs": [
    {
     "data": {
      "text/plain": [
       "2586.7696475631606"
      ]
     },
     "execution_count": 3,
     "metadata": {},
     "output_type": "execute_result"
    }
   ],
   "source": [
    "_, a280_tour = read_tour(OPT_TOUR_FILES[1])\n",
    "cost_a280(a280_tour)"
   ]
  },
  {
   "cell_type": "code",
   "execution_count": 4,
   "metadata": {},
   "outputs": [
    {
     "name": "stdout",
     "output_type": "stream",
     "text": [
      "280\n",
      "[128 103 205  42  64 180  74 110  50  39 225 264 224   2  81 133 100  80\n",
      " 257 260 176 113 251   8 130 136  17  65 242  25 263   5  93  68  27 239\n",
      " 155  96 151 279 204  72   6 275  28 132  12  88 109  40 259  34 129 201\n",
      "  23 241 221 262 145 166 249  94 134 267 209  76 117  45 139  33   9  69\n",
      "  90 215 219  91  84 148  98 193 268 168 146 220  51   1 178 227 248 254\n",
      " 208 234 163  92 237  56  24  61 232 228  26 112 274  21  67 230 141 233\n",
      " 188 186 191  22  87 144  47 190  70 152 258  62  89 194 162 124 149 211\n",
      " 158 197 138 140  86 159  11  52 183 222 114 250   7 125  57 214 156 218\n",
      " 238  48 247  18  66 157 160 202   3 121 212  95 143 107 171 192  54 118\n",
      " 187  19 147 131 199  14 175 119 213  77 246 244   4  15 165 252  97 206\n",
      "  49 210 240 142  31 278 273 198 115 223  82  59 195 189 216  29 266 200\n",
      " 122 203 153 243 135 108  73 126  16 120  44 179 150  30 127 261 174 123\n",
      "  55 184 181  78 106  38 277  58  43 253  46 207 137 272 265  71 245  20\n",
      " 235 173 177 231 256 111 170 276  99 161 172  10  75   0 236 270 102 167\n",
      " 154  41  36  63  79 164  53  35 169 269  83 255 182 226  85 185  60  13\n",
      " 101 229 271  37 104 196  32 105 217 116]\n"
     ]
    }
   ],
   "source": [
    "np.random.seed(0xc0ffee)\n",
    "cost_function = cost_a280\n",
    "delta_cost_function = delta_cost_a280\n",
    "n = delta_cost_function.D.shape[0]\n",
    "print(n)\n",
    "T_initial = 100.0\n",
    "T_final = 0.1\n",
    "\n",
    "cr = 0.9\n",
    "cooling_schedule = GeometricCoolingSchedule(cr)\n",
    "mkov_transition = random_two_opt_transition\n",
    "state_constructor = Lin2opt\n",
    "\n",
    "sim_anneal_system = SAMinimizer(\n",
    "    mkov_transition,\n",
    "    delta_cost_a280,\n",
    "    cooling_schedule,\n",
    "    state_constructor)\n",
    "\n",
    "X0 = np.random.permutation(n)\n",
    "print(X0)"
   ]
  },
  {
   "cell_type": "code",
   "execution_count": 5,
   "metadata": {},
   "outputs": [],
   "source": [
    "sim_anneal_system.run(1000, T_initial, X0, cost_a280, StoppingCriterion.MIN_TEMPERATURE, T_final)"
   ]
  },
  {
   "cell_type": "code",
   "execution_count": 6,
   "metadata": {},
   "outputs": [
    {
     "name": "stdout",
     "output_type": "stream",
     "text": [
      "3763.2192534572514\n"
     ]
    }
   ],
   "source": [
    "print(sim_anneal_system.min_cost)"
   ]
  }
 ],
 "metadata": {
  "kernelspec": {
   "display_name": "Python 3",
   "language": "python",
   "name": "python3"
  },
  "language_info": {
   "codemirror_mode": {
    "name": "ipython",
    "version": 3
   },
   "file_extension": ".py",
   "mimetype": "text/x-python",
   "name": "python",
   "nbconvert_exporter": "python",
   "pygments_lexer": "ipython3",
   "version": "3.8.5"
  }
 },
 "nbformat": 4,
 "nbformat_minor": 4
}
