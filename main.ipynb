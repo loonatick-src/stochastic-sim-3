{
 "cells": [
  {
   "cell_type": "code",
   "execution_count": 8,
   "metadata": {},
   "outputs": [],
   "source": [
    "import numpy as np\n",
    "\n",
    "from assignment_util import *\n",
    "from SAMinimizer import *\n",
    "from TSP import * \n",
    "from cooling import *"
   ]
  },
  {
   "cell_type": "code",
   "execution_count": 15,
   "metadata": {},
   "outputs": [],
   "source": [
    "adj_matrices = load_all_adj_matrices()\n",
    "# seethe\n",
    "assert  list(\n",
    "            sorted(\n",
    "                map(\n",
    "                    lambda arr: arr.shape,\n",
    "                    adj_matrices))) == [(51, 51), (280, 280), (442, 442)]\n",
    "\n",
    "for amat in adj_matrices:\n",
    "    for row in amat:\n",
    "        for elmt in row:\n",
    "            assert elmt >= 0, f\"{elmt}\""
   ]
  },
  {
   "cell_type": "code",
   "execution_count": 10,
   "metadata": {},
   "outputs": [
    {
     "data": {
      "text/plain": [
       "True"
      ]
     },
     "execution_count": 10,
     "metadata": {},
     "output_type": "execute_result"
    }
   ],
   "source": [
    "x = np.array([[1,2,3],[4,5,6],[-5,2,5]])\n",
    "np.all(x) > 0"
   ]
  }
 ],
 "metadata": {
  "kernelspec": {
   "display_name": "Python 3",
   "language": "python",
   "name": "python3"
  },
  "language_info": {
   "codemirror_mode": {
    "name": "ipython",
    "version": 3
   },
   "file_extension": ".py",
   "mimetype": "text/x-python",
   "name": "python",
   "nbconvert_exporter": "python",
   "pygments_lexer": "ipython3",
   "version": "3.8.5"
  }
 },
 "nbformat": 4,
 "nbformat_minor": 4
}
