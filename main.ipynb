{
 "cells": [
  {
   "cell_type": "code",
   "execution_count": 1,
   "metadata": {},
   "outputs": [],
   "source": [
    "import numpy as np\n",
    "\n",
    "from assignment_util import *\n",
    "from SAMinimizer import *\n",
    "from TSP import * \n",
    "from cooling import *\n",
    "\n",
    "adj_matrices = sorted(load_all_adj_matrices(), key = lambda arr: arr.shape)"
   ]
  },
  {
   "cell_type": "code",
   "execution_count": 2,
   "metadata": {},
   "outputs": [
    {
     "name": "stdout",
     "output_type": "stream",
     "text": [
      "[(51, 51), (280, 280), (442, 442)]\n"
     ]
    }
   ],
   "source": [
    "print(list(map(lambda arr: arr.shape, adj_matrices)))"
   ]
  },
  {
   "cell_type": "code",
   "execution_count": 3,
   "metadata": {},
   "outputs": [],
   "source": [
    "amat51 = adj_matrices[0]\n",
    "n = len(amat51)\n",
    "cr = 0.9\n",
    "cooling_schedule = GeometricCoolingSchedule(cr)\n",
    "cost_function = TSPCost(amat51)\n",
    "delta_cost_function = TSPDeltaCost(amat51)\n",
    "mkov_transition = random_two_opt_transition\n",
    "state_constructor = Lin2opt\n",
    "\n",
    "sim_anneal_system = SAMinimizer(\n",
    "    mkov_transition, delta_cost_function, cooling_schedule, state_constructor)\n",
    "\n",
    "X0 = np.random.permutation(n)"
   ]
  },
  {
   "cell_type": "code",
   "execution_count": 4,
   "metadata": {},
   "outputs": [],
   "source": [
    "sim_anneal_system.run(5000, 100, 1, X0, cost_function)"
   ]
  },
  {
   "cell_type": "code",
   "execution_count": 6,
   "metadata": {},
   "outputs": [
    {
     "name": "stdout",
     "output_type": "stream",
     "text": [
      "-222510.7642472684\n"
     ]
    }
   ],
   "source": [
    "# FIXME\n",
    "print(sim_anneal_system.min_cost)"
   ]
  }
 ],
 "metadata": {
  "kernelspec": {
   "display_name": "Python 3",
   "language": "python",
   "name": "python3"
  },
  "language_info": {
   "codemirror_mode": {
    "name": "ipython",
    "version": 3
   },
   "file_extension": ".py",
   "mimetype": "text/x-python",
   "name": "python",
   "nbconvert_exporter": "python",
   "pygments_lexer": "ipython3",
   "version": "3.8.5"
  }
 },
 "nbformat": 4,
 "nbformat_minor": 4
}
