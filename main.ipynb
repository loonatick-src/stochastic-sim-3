{
 "cells": [
  {
   "cell_type": "code",
   "execution_count": 1,
   "metadata": {},
   "outputs": [],
   "source": [
    "import numpy as np\n",
    "from joblib import Parallel, delayed\n",
    "\n",
    "from assignment.util import *\n",
    "from assignment.TSP import *\n",
    "from assignment.cooling import *\n",
    "from assignment.SAMinimizer import *"
   ]
  },
  {
   "cell_type": "code",
   "execution_count": 2,
   "metadata": {},
   "outputs": [],
   "source": [
    "# logging.basicConfig(level = logging.DEBUG)"
   ]
  },
  {
   "cell_type": "code",
   "execution_count": 3,
   "metadata": {},
   "outputs": [],
   "source": [
    "cost_eil51, cost_a280, cost_pcb442 = map(first, COST_FUNCTION_PAIRS)\n",
    "delta_cost_eil51, delta_cost_a280, delta_cost_pcb442 = map(second, COST_FUNCTION_PAIRS)"
   ]
  },
  {
   "cell_type": "code",
   "execution_count": 4,
   "metadata": {},
   "outputs": [
    {
     "name": "stderr",
     "output_type": "stream",
     "text": [
      "DEBUG:root:len(self.D) = 280\n"
     ]
    },
    {
     "data": {
      "text/plain": [
       "2586.7696475631606"
      ]
     },
     "execution_count": 4,
     "metadata": {},
     "output_type": "execute_result"
    }
   ],
   "source": [
    "_, a280_tour = read_tour(OPT_TOUR_FILES[1])\n",
    "cost_a280(a280_tour)"
   ]
  },
  {
   "cell_type": "code",
   "execution_count": 5,
   "metadata": {},
   "outputs": [
    {
     "name": "stdout",
     "output_type": "stream",
     "text": [
      "280\n",
      "[128 103 205  42  64 180  74 110  50  39 225 264 224   2  81 133 100  80\n",
      " 257 260 176 113 251   8 130 136  17  65 242  25 263   5  93  68  27 239\n",
      " 155  96 151 279 204  72   6 275  28 132  12  88 109  40 259  34 129 201\n",
      "  23 241 221 262 145 166 249  94 134 267 209  76 117  45 139  33   9  69\n",
      "  90 215 219  91  84 148  98 193 268 168 146 220  51   1 178 227 248 254\n",
      " 208 234 163  92 237  56  24  61 232 228  26 112 274  21  67 230 141 233\n",
      " 188 186 191  22  87 144  47 190  70 152 258  62  89 194 162 124 149 211\n",
      " 158 197 138 140  86 159  11  52 183 222 114 250   7 125  57 214 156 218\n",
      " 238  48 247  18  66 157 160 202   3 121 212  95 143 107 171 192  54 118\n",
      " 187  19 147 131 199  14 175 119 213  77 246 244   4  15 165 252  97 206\n",
      "  49 210 240 142  31 278 273 198 115 223  82  59 195 189 216  29 266 200\n",
      " 122 203 153 243 135 108  73 126  16 120  44 179 150  30 127 261 174 123\n",
      "  55 184 181  78 106  38 277  58  43 253  46 207 137 272 265  71 245  20\n",
      " 235 173 177 231 256 111 170 276  99 161 172  10  75   0 236 270 102 167\n",
      " 154  41  36  63  79 164  53  35 169 269  83 255 182 226  85 185  60  13\n",
      " 101 229 271  37 104 196  32 105 217 116]\n"
     ]
    }
   ],
   "source": [
    "np.random.seed(0xc0ffee)\n",
    "cost_function = cost_a280\n",
    "delta_cost_function = delta_cost_a280\n",
    "n = delta_cost_function.D.shape[0]\n",
    "print(n)\n",
    "T_initial = 100.0\n",
    "T_final = 0.1\n",
    "\n",
    "cr = 0.95\n",
    "cooling_schedule = GeometricCoolingSchedule(cr)\n",
    "mkov_transition = random_two_opt_transition\n",
    "state_constructor = Lin2opt\n",
    "\n",
    "sim_anneal_system = SAMinimizer(\n",
    "    mkov_transition,\n",
    "    delta_cost_a280,\n",
    "    cooling_schedule,\n",
    "    np.random.uniform,\n",
    "    state_constructor)\n",
    "\n",
    "X0 = np.random.permutation(n)\n",
    "print(X0)"
   ]
  },
  {
   "cell_type": "code",
   "execution_count": 6,
   "metadata": {},
   "outputs": [
    {
     "name": "stderr",
     "output_type": "stream",
     "text": [
      "DEBUG:root:len(self.D) = 280\n"
     ]
    }
   ],
   "source": [
    "sim_anneal_system.run(1000, T_initial, X0, cost_a280, StoppingCriterion.MIN_TEMPERATURE, CostProbing.LATEST_GLOBAL_OPTIMUM, T_final)"
   ]
  },
  {
   "cell_type": "code",
   "execution_count": 7,
   "metadata": {},
   "outputs": [
    {
     "name": "stdout",
     "output_type": "stream",
     "text": [
      "3221.020789518919\n"
     ]
    }
   ],
   "source": [
    "print(sim_anneal_system.min_cost)"
   ]
  },
  {
   "cell_type": "code",
   "execution_count": 8,
   "metadata": {},
   "outputs": [],
   "source": [
    "NODE_COUNTS = np.array([51, 280, 442])"
   ]
  },
  {
   "cell_type": "markdown",
   "metadata": {},
   "source": [
    "## Effect of Temperature on Initial Acceptance Rate"
   ]
  },
  {
   "cell_type": "code",
   "execution_count": 9,
   "metadata": {},
   "outputs": [],
   "source": [
    "def run_batch(sa_system, batch_size, chain_length, T_initial, *args):\n",
    "    acceptance_rates = np.full(batch_size, np.float64(\"nan\"))\n",
    "    min_costs = np.full(batch_size, np.float64(\"nan\"))\n",
    "    node_count = sa_system.delta_cost.D.shape[0]\n",
    "    for i in range(batch_size):\n",
    "        X0 = np.random.permutation(node_count)\n",
    "        sa_system.run(chain_length, T_initial, X0, *args)\n",
    "        min_costs[i] = sa_system.min_cost\n",
    "        acceptance_rates[i] = np.float64(sa_system.acceptance_count)/chain_length\n",
    "        sa_system.reset()\n",
    "        \n",
    "    return min_costs, acceptance_rates"
   ]
  },
  {
   "cell_type": "code",
   "execution_count": 11,
   "metadata": {},
   "outputs": [
    {
     "name": "stderr",
     "output_type": "stream",
     "text": [
      "DEBUG:root:len(self.D) = 51\n"
     ]
    },
    {
     "name": "stdout",
     "output_type": "stream",
     "text": [
      "51\n"
     ]
    },
    {
     "name": "stderr",
     "output_type": "stream",
     "text": [
      "DEBUG:root:len(self.D) = 51\n",
      "DEBUG:root:len(self.D) = 51\n",
      "DEBUG:root:len(self.D) = 51\n"
     ]
    },
    {
     "ename": "KeyboardInterrupt",
     "evalue": "",
     "output_type": "error",
     "traceback": [
      "\u001b[0;31m-------------------------------------------------------------------------\u001b[0m",
      "\u001b[0;31mKeyboardInterrupt\u001b[0m                       Traceback (most recent call last)",
      "\u001b[0;32m<ipython-input-11-14a1afc77199>\u001b[0m in \u001b[0;36m<module>\u001b[0;34m\u001b[0m\n\u001b[1;32m     32\u001b[0m \u001b[0;31m# TODO: parallelize this loop\u001b[0m\u001b[0;34m\u001b[0m\u001b[0;34m\u001b[0m\u001b[0;34m\u001b[0m\u001b[0m\n\u001b[1;32m     33\u001b[0m \u001b[0;32mfor\u001b[0m \u001b[0mi\u001b[0m\u001b[0;34m,\u001b[0m\u001b[0mT0\u001b[0m \u001b[0;32min\u001b[0m \u001b[0menumerate\u001b[0m\u001b[0;34m(\u001b[0m\u001b[0mT_initial_values\u001b[0m\u001b[0;34m)\u001b[0m\u001b[0;34m:\u001b[0m\u001b[0;34m\u001b[0m\u001b[0;34m\u001b[0m\u001b[0m\n\u001b[0;32m---> 34\u001b[0;31m     \u001b[0mmin_costs\u001b[0m\u001b[0;34m,\u001b[0m \u001b[0macceptance_rates\u001b[0m \u001b[0;34m=\u001b[0m \u001b[0mrun_batch\u001b[0m\u001b[0;34m(\u001b[0m\u001b[0msa_systems\u001b[0m\u001b[0;34m[\u001b[0m\u001b[0mi\u001b[0m\u001b[0;34m]\u001b[0m\u001b[0;34m,\u001b[0m \u001b[0mbatch_size\u001b[0m\u001b[0;34m,\u001b[0m \u001b[0mchain_length\u001b[0m\u001b[0;34m,\u001b[0m \u001b[0mT0\u001b[0m\u001b[0;34m,\u001b[0m \u001b[0;34m*\u001b[0m\u001b[0margs\u001b[0m\u001b[0;34m)\u001b[0m\u001b[0;34m\u001b[0m\u001b[0;34m\u001b[0m\u001b[0m\n\u001b[0m\u001b[1;32m     35\u001b[0m     \u001b[0mmin_cost_lists\u001b[0m\u001b[0;34m.\u001b[0m\u001b[0mappend\u001b[0m\u001b[0;34m(\u001b[0m\u001b[0mmin_costs\u001b[0m\u001b[0;34m)\u001b[0m\u001b[0;34m\u001b[0m\u001b[0;34m\u001b[0m\u001b[0m\n",
      "\u001b[0;32m<ipython-input-9-8ef936752b99>\u001b[0m in \u001b[0;36mrun_batch\u001b[0;34m(sa_system, batch_size, chain_length, T_initial, *args)\u001b[0m\n\u001b[1;32m      5\u001b[0m     \u001b[0;32mfor\u001b[0m \u001b[0mi\u001b[0m \u001b[0;32min\u001b[0m \u001b[0mrange\u001b[0m\u001b[0;34m(\u001b[0m\u001b[0mbatch_size\u001b[0m\u001b[0;34m)\u001b[0m\u001b[0;34m:\u001b[0m\u001b[0;34m\u001b[0m\u001b[0;34m\u001b[0m\u001b[0m\n\u001b[1;32m      6\u001b[0m         \u001b[0mX0\u001b[0m \u001b[0;34m=\u001b[0m \u001b[0mnp\u001b[0m\u001b[0;34m.\u001b[0m\u001b[0mrandom\u001b[0m\u001b[0;34m.\u001b[0m\u001b[0mpermutation\u001b[0m\u001b[0;34m(\u001b[0m\u001b[0mnode_count\u001b[0m\u001b[0;34m)\u001b[0m\u001b[0;34m\u001b[0m\u001b[0;34m\u001b[0m\u001b[0m\n\u001b[0;32m----> 7\u001b[0;31m         \u001b[0msa_system\u001b[0m\u001b[0;34m.\u001b[0m\u001b[0mrun\u001b[0m\u001b[0;34m(\u001b[0m\u001b[0mchain_length\u001b[0m\u001b[0;34m,\u001b[0m \u001b[0mT_initial\u001b[0m\u001b[0;34m,\u001b[0m \u001b[0mX0\u001b[0m\u001b[0;34m,\u001b[0m \u001b[0;34m*\u001b[0m\u001b[0margs\u001b[0m\u001b[0;34m)\u001b[0m\u001b[0;34m\u001b[0m\u001b[0;34m\u001b[0m\u001b[0m\n\u001b[0m\u001b[1;32m      8\u001b[0m         \u001b[0mmin_costs\u001b[0m\u001b[0;34m[\u001b[0m\u001b[0mi\u001b[0m\u001b[0;34m]\u001b[0m \u001b[0;34m=\u001b[0m \u001b[0msa_system\u001b[0m\u001b[0;34m.\u001b[0m\u001b[0mmin_cost\u001b[0m\u001b[0;34m\u001b[0m\u001b[0;34m\u001b[0m\u001b[0m\n\u001b[1;32m      9\u001b[0m         \u001b[0macceptance_rates\u001b[0m\u001b[0;34m[\u001b[0m\u001b[0mi\u001b[0m\u001b[0;34m]\u001b[0m \u001b[0;34m=\u001b[0m \u001b[0mnp\u001b[0m\u001b[0;34m.\u001b[0m\u001b[0mfloat64\u001b[0m\u001b[0;34m(\u001b[0m\u001b[0msa_system\u001b[0m\u001b[0;34m.\u001b[0m\u001b[0macceptance_count\u001b[0m\u001b[0;34m)\u001b[0m\u001b[0;34m/\u001b[0m\u001b[0mchain_length\u001b[0m\u001b[0;34m\u001b[0m\u001b[0;34m\u001b[0m\u001b[0m\n",
      "\u001b[0;32m~/college/CLS/s1/stochastic-sim/assignments/3/stochastic-sim-3/assignment/SAMinimizer.py\u001b[0m in \u001b[0;36mrun\u001b[0;34m(self, chain_length, T_initial, X0, cost_function, stopping_criterion, cost_probing, *args)\u001b[0m\n\u001b[1;32m    130\u001b[0m                 \u001b[0;32melse\u001b[0m\u001b[0;34m:\u001b[0m\u001b[0;34m\u001b[0m\u001b[0;34m\u001b[0m\u001b[0m\n\u001b[1;32m    131\u001b[0m                     \u001b[0mboltzmann_d\u001b[0m \u001b[0;34m=\u001b[0m \u001b[0mnp\u001b[0m\u001b[0;34m.\u001b[0m\u001b[0mexp\u001b[0m\u001b[0;34m(\u001b[0m\u001b[0;34m-\u001b[0m\u001b[0mdelta_c\u001b[0m\u001b[0;34m/\u001b[0m\u001b[0mT\u001b[0m\u001b[0;34m)\u001b[0m\u001b[0;34m\u001b[0m\u001b[0;34m\u001b[0m\u001b[0m\n\u001b[0;32m--> 132\u001b[0;31m                     \u001b[0mu\u001b[0m \u001b[0;34m=\u001b[0m \u001b[0mself\u001b[0m\u001b[0;34m.\u001b[0m\u001b[0muniform\u001b[0m\u001b[0;34m(\u001b[0m\u001b[0mlow\u001b[0m \u001b[0;34m=\u001b[0m \u001b[0;36m0\u001b[0m\u001b[0;34m,\u001b[0m \u001b[0mhigh\u001b[0m \u001b[0;34m=\u001b[0m \u001b[0;36m1\u001b[0m\u001b[0;34m)\u001b[0m\u001b[0;34m\u001b[0m\u001b[0;34m\u001b[0m\u001b[0m\n\u001b[0m\u001b[1;32m    133\u001b[0m                     \u001b[0;32mif\u001b[0m \u001b[0mboltzmann_d\u001b[0m \u001b[0;34m>\u001b[0m \u001b[0mu\u001b[0m\u001b[0;34m:\u001b[0m\u001b[0;34m\u001b[0m\u001b[0;34m\u001b[0m\u001b[0m\n\u001b[1;32m    134\u001b[0m                         \u001b[0;32mif\u001b[0m \u001b[0;34m(\u001b[0m\u001b[0mT\u001b[0m \u001b[0;34m==\u001b[0m \u001b[0mT_initial\u001b[0m\u001b[0;34m)\u001b[0m\u001b[0;34m:\u001b[0m\u001b[0;34m\u001b[0m\u001b[0;34m\u001b[0m\u001b[0m\n",
      "\u001b[0;31mKeyboardInterrupt\u001b[0m: "
     ]
    }
   ],
   "source": [
    "# eil51\n",
    "cost_function, dcost_function = COST_FUNCTION_PAIRS[0]\n",
    "node_count = cost_function.D.shape[0] \n",
    "print(node_count)\n",
    "cr = 0.95\n",
    "cooling_schedule = GeometricCoolingSchedule(cr)\n",
    "mkov_transition = random_two_opt_transition\n",
    "state_constructor = Lin2opt\n",
    "\n",
    "\n",
    "c_values = np.linspace(1,10, 10)\n",
    "T_initial_values = c_values * np.sqrt(node_count)\n",
    "\n",
    "\n",
    "# for parallelization\n",
    "N_JOBS = 6\n",
    "\n",
    "rngs = generate_rngs(len(T_initial_values))\n",
    "\n",
    "\n",
    "batch_size = 10\n",
    "min_costs_list = []\n",
    "chain_length = 1000\n",
    "chain_count = 100\n",
    "args = (cost_function, StoppingCriterion.MKOV_CHAIN_COUNT, CostProbing.LATEST_GLOBAL_OPTIMUM, chain_count)\n",
    "\n",
    "\n",
    "sa_systems = [SAMinimizer(mkov_transition, dcost_function, cooling_schedule, rng.uniform, state_constructor)\n",
    "                for rng in rngs]\n",
    "\n",
    "\n",
    "# TODO: parallelize this loop\n",
    "for i,T0 in enumerate(T_initial_values):\n",
    "    min_costs, acceptance_rates = run_batch(sa_systems[i], batch_size, chain_length, T0, *args)\n",
    "    min_cost_lists.append(min_costs)"
   ]
  },
  {
   "cell_type": "code",
   "execution_count": null,
   "metadata": {},
   "outputs": [],
   "source": [
    "SAMinimizer.__init__?"
   ]
  },
  {
   "cell_type": "code",
   "execution_count": null,
   "metadata": {},
   "outputs": [],
   "source": []
  },
  {
   "cell_type": "code",
   "execution_count": null,
   "metadata": {},
   "outputs": [],
   "source": []
  },
  {
   "cell_type": "code",
   "execution_count": null,
   "metadata": {},
   "outputs": [],
   "source": []
  },
  {
   "cell_type": "code",
   "execution_count": null,
   "metadata": {},
   "outputs": [],
   "source": []
  }
 ],
 "metadata": {
  "kernelspec": {
   "display_name": "Python 3",
   "language": "python",
   "name": "python3"
  },
  "language_info": {
   "codemirror_mode": {
    "name": "ipython",
    "version": 3
   },
   "file_extension": ".py",
   "mimetype": "text/x-python",
   "name": "python",
   "nbconvert_exporter": "python",
   "pygments_lexer": "ipython3",
   "version": "3.8.5"
  }
 },
 "nbformat": 4,
 "nbformat_minor": 4
}
