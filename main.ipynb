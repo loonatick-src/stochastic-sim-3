{
 "cells": [
  {
   "cell_type": "code",
   "execution_count": 1,
   "metadata": {},
   "outputs": [],
   "source": [
    "import numpy as np\n",
    "\n",
    "from assignment.util import *\n",
    "from assignment.TSP import *\n",
    "from assignment.cooling import *\n",
    "from assignment.SAMinimizer import *"
   ]
  },
  {
   "cell_type": "code",
   "execution_count": 2,
   "metadata": {},
   "outputs": [],
   "source": [
    "cost_eil51, cost_a280, cost_pcb442 = map(first, COST_FUNCTION_PAIRS)\n",
    "delta_cost_eil51, delta_cost_a280, delta_cost_pcb442 = map(second, COST_FUNCTION_PAIRS)"
   ]
  },
  {
   "cell_type": "code",
   "execution_count": 3,
   "metadata": {},
   "outputs": [
    {
     "name": "stdout",
     "output_type": "stream",
     "text": [
      "51\n",
      "[16  8 20 14  2 23 45 47 27 33 24 17 28  1 31 10 11  0 12  5 44  7 36 50\n",
      " 42 46 34 30  3  9 35 18 19 26 21 13 29 38 48 15 22 37 43 49  6 40  4 32\n",
      " 41 39 25]\n"
     ]
    }
   ],
   "source": [
    "np.random.seed(0xc0ffee)\n",
    "n = first(cost_eil51.D.shape)\n",
    "print(n)\n",
    "cr = 0.9\n",
    "cooling_schedule = GeometricCoolingSchedule(cr)\n",
    "mkov_transition = random_two_opt_transition\n",
    "state_constructor = Lin2opt\n",
    "\n",
    "sim_anneal_system = SAMinimizer(\n",
    "    mkov_transition,\n",
    "    delta_cost_eil51,\n",
    "    cooling_schedule,\n",
    "    state_constructor)\n",
    "\n",
    "X0 = np.random.permutation(n)\n",
    "print(X0)"
   ]
  },
  {
   "cell_type": "code",
   "execution_count": 4,
   "metadata": {},
   "outputs": [],
   "source": [
    "sim_anneal_system.run(5000, 100, 1, X0, cost_eil51)"
   ]
  },
  {
   "cell_type": "code",
   "execution_count": 5,
   "metadata": {},
   "outputs": [
    {
     "name": "stdout",
     "output_type": "stream",
     "text": [
      "467.6127954364843\n"
     ]
    }
   ],
   "source": [
    "# FIXME\n",
    "print(sim_anneal_system.min_cost)"
   ]
  },
  {
   "cell_type": "code",
   "execution_count": null,
   "metadata": {},
   "outputs": [],
   "source": []
  }
 ],
 "metadata": {
  "kernelspec": {
   "display_name": "Python 3",
   "language": "python",
   "name": "python3"
  },
  "language_info": {
   "codemirror_mode": {
    "name": "ipython",
    "version": 3
   },
   "file_extension": ".py",
   "mimetype": "text/x-python",
   "name": "python",
   "nbconvert_exporter": "python",
   "pygments_lexer": "ipython3",
   "version": "3.8.5"
  }
 },
 "nbformat": 4,
 "nbformat_minor": 4
}
