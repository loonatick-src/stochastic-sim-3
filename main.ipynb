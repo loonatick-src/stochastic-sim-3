{
 "cells": [
  {
   "cell_type": "code",
   "execution_count": 1,
   "metadata": {},
   "outputs": [],
   "source": [
    "import numpy as np\n",
    "# from joblib import Parallel, delayed\n",
    "from os.path import exists\n",
    "import matplotlib.pyplot as plt\n",
    "from pickle import load, dump\n",
    "\n",
    "from assignment.util import *\n",
    "from assignment.TSP import *\n",
    "from assignment.cooling import *\n",
    "from assignment.SAMinimizer import *"
   ]
  },
  {
   "cell_type": "code",
   "execution_count": 7,
   "metadata": {},
   "outputs": [],
   "source": [
    "def nan_arr(arr_size):\n",
    "    return np.full(arr_size, np.float64(\"nan\"))"
   ]
  },
  {
   "cell_type": "code",
   "execution_count": 2,
   "metadata": {},
   "outputs": [],
   "source": [
    "# logging.basicConfig(level = logging.DEBUG)"
   ]
  },
  {
   "cell_type": "code",
   "execution_count": 3,
   "metadata": {},
   "outputs": [],
   "source": [
    "cost_eil51, cost_a280, cost_pcb442 = map(first, COST_FUNCTION_PAIRS)\n",
    "delta_cost_eil51, delta_cost_a280, delta_cost_pcb442 = map(second, COST_FUNCTION_PAIRS)"
   ]
  },
  {
   "cell_type": "code",
   "execution_count": 4,
   "metadata": {},
   "outputs": [
    {
     "data": {
      "text/plain": [
       "2586.7696475631606"
      ]
     },
     "execution_count": 4,
     "metadata": {},
     "output_type": "execute_result"
    }
   ],
   "source": [
    "_, a280_tour = read_tour(OPT_TOUR_FILES[1])\n",
    "cost_a280(a280_tour)"
   ]
  },
  {
   "cell_type": "code",
   "execution_count": 5,
   "metadata": {},
   "outputs": [
    {
     "name": "stdout",
     "output_type": "stream",
     "text": [
      "280\n",
      "[128 103 205  42  64 180  74 110  50  39 225 264 224   2  81 133 100  80\n",
      " 257 260 176 113 251   8 130 136  17  65 242  25 263   5  93  68  27 239\n",
      " 155  96 151 279 204  72   6 275  28 132  12  88 109  40 259  34 129 201\n",
      "  23 241 221 262 145 166 249  94 134 267 209  76 117  45 139  33   9  69\n",
      "  90 215 219  91  84 148  98 193 268 168 146 220  51   1 178 227 248 254\n",
      " 208 234 163  92 237  56  24  61 232 228  26 112 274  21  67 230 141 233\n",
      " 188 186 191  22  87 144  47 190  70 152 258  62  89 194 162 124 149 211\n",
      " 158 197 138 140  86 159  11  52 183 222 114 250   7 125  57 214 156 218\n",
      " 238  48 247  18  66 157 160 202   3 121 212  95 143 107 171 192  54 118\n",
      " 187  19 147 131 199  14 175 119 213  77 246 244   4  15 165 252  97 206\n",
      "  49 210 240 142  31 278 273 198 115 223  82  59 195 189 216  29 266 200\n",
      " 122 203 153 243 135 108  73 126  16 120  44 179 150  30 127 261 174 123\n",
      "  55 184 181  78 106  38 277  58  43 253  46 207 137 272 265  71 245  20\n",
      " 235 173 177 231 256 111 170 276  99 161 172  10  75   0 236 270 102 167\n",
      " 154  41  36  63  79 164  53  35 169 269  83 255 182 226  85 185  60  13\n",
      " 101 229 271  37 104 196  32 105 217 116]\n"
     ]
    }
   ],
   "source": [
    "np.random.seed(0xc0ffee)\n",
    "cost_function = cost_a280\n",
    "delta_cost_function = delta_cost_a280\n",
    "n = delta_cost_function.D.shape[0]\n",
    "print(n)\n",
    "T_initial = 100.0\n",
    "T_final = 0.1\n",
    "\n",
    "cr = 0.95\n",
    "cooling_schedule = GeometricCoolingSchedule(cr)\n",
    "mkov_transition = random_two_opt_transition\n",
    "state_constructor = Lin2opt\n",
    "\n",
    "sim_anneal_system = SAMinimizer(\n",
    "    mkov_transition,\n",
    "    delta_cost_a280,\n",
    "    cooling_schedule,\n",
    "    np.random.uniform,\n",
    "    state_constructor)\n",
    "\n",
    "X0 = np.random.permutation(n)\n",
    "print(X0)"
   ]
  },
  {
   "cell_type": "code",
   "execution_count": 6,
   "metadata": {},
   "outputs": [],
   "source": [
    "sim_anneal_system.run(1000, T_initial, X0, cost_a280, StoppingCriterion.MIN_TEMPERATURE, CostProbing.LATEST_GLOBAL_OPTIMUM, T_final)"
   ]
  },
  {
   "cell_type": "code",
   "execution_count": 7,
   "metadata": {},
   "outputs": [
    {
     "name": "stdout",
     "output_type": "stream",
     "text": [
      "3221.020789518919\n"
     ]
    }
   ],
   "source": [
    "print(sim_anneal_system.min_cost)"
   ]
  },
  {
   "cell_type": "code",
   "execution_count": 8,
   "metadata": {},
   "outputs": [],
   "source": [
    "NODE_COUNTS = np.array([51, 280, 442])"
   ]
  },
  {
   "cell_type": "markdown",
   "metadata": {},
   "source": [
    "## Effect of Temperature on Initial Acceptance Rate"
   ]
  },
  {
   "cell_type": "code",
   "execution_count": 3,
   "metadata": {},
   "outputs": [],
   "source": [
    "def run_batch(sa_system, batch_size, chain_length, T_initial, *args):\n",
    "    acceptance_rates = np.full(batch_size, np.float64(\"nan\"))\n",
    "    min_costs = np.full(batch_size, np.float64(\"nan\"))\n",
    "    node_count = sa_system.delta_cost.D.shape[0]\n",
    "    for i in range(batch_size):\n",
    "        X0 = np.random.permutation(node_count)\n",
    "        sa_system.run(chain_length, T_initial, X0, *args)\n",
    "        min_costs[i] = sa_system.min_cost\n",
    "        acceptance_rates[i] = np.float64(sa_system.acceptance_count)/chain_length\n",
    "        sa_system.reset()\n",
    "        \n",
    "    return min_costs, acceptance_rates"
   ]
  },
  {
   "cell_type": "code",
   "execution_count": 30,
   "metadata": {},
   "outputs": [
    {
     "name": "stdout",
     "output_type": "stream",
     "text": [
      "51\n"
     ]
    }
   ],
   "source": [
    "# eil51\n",
    "cost_function, dcost_function = COST_FUNCTION_PAIRS[0]\n",
    "node_count = cost_function.D.shape[0] \n",
    "print(node_count)\n",
    "cr = 0.95\n",
    "cooling_schedule = GeometricCoolingSchedule(cr)\n",
    "mkov_transition = random_two_opt_transition\n",
    "state_constructor = Lin2opt\n",
    "\n",
    "\n",
    "c_values = np.linspace(1,10, 10)\n",
    "T_initial_values = c_values * np.sqrt(node_count)\n",
    "\n",
    "\n",
    "# for parallelization\n",
    "N_JOBS = 6\n",
    "\n",
    "rngs = generate_rngs(len(T_initial_values))\n",
    "\n",
    "\n",
    "batch_size = 10\n",
    "min_costs_list = []\n",
    "chain_length = 1000\n",
    "chain_count = 100\n",
    "args = (cost_function, StoppingCriterion.MKOV_CHAIN_COUNT, CostProbing.LATEST_GLOBAL_OPTIMUM, chain_count)\n",
    "\n",
    "\n",
    "sa_systems = [SAMinimizer(mkov_transition, dcost_function, cooling_schedule, rng.uniform, state_constructor)\n",
    "                for rng in rngs]\n",
    "\n",
    "min_cost_list = []\n",
    "acceptance_rates_list = []\n",
    "npz_filename = \"test.npz\"\n",
    "npz_savepath = save_path(npz_filename)\n",
    "\n",
    "\n",
    "if not exists(npz_filepath):\n",
    "    # TODO: parallelize this loop\n",
    "    for i,T0 in enumerate(T_initial_values):\n",
    "        min_costs, acceptance_rates = run_batch(sa_systems[i], batch_size, chain_length, T0, *args)\n",
    "        min_cost_list.append(min_costs)\n",
    "        acceptance_rates_list.append(acceptance_rates)\n",
    "    min_cost_list = np.array(min_cost_list)\n",
    "    acceptance_rates_list = np.array(acceptance_rates_list)\n",
    "\n",
    "else:\n",
    "    save_data = np.load(npz_savepath)\n",
    "    min_cost_list, acceptance_rates_list = save_data['arr_0'], save_data['arr_1']\n"
   ]
  },
  {
   "cell_type": "code",
   "execution_count": 31,
   "metadata": {},
   "outputs": [
    {
     "name": "stdout",
     "output_type": "stream",
     "text": [
      "[[0.241 0.238 0.257 0.227 0.255 0.247 0.203 0.227 0.239 0.214]\n",
      " [0.416 0.392 0.418 0.411 0.444 0.429 0.413 0.462 0.434 0.434]\n",
      " [0.556 0.564 0.552 0.545 0.566 0.604 0.578 0.605 0.579 0.568]\n",
      " [0.669 0.682 0.671 0.64  0.675 0.643 0.667 0.652 0.671 0.68 ]\n",
      " [0.731 0.734 0.743 0.766 0.743 0.69  0.71  0.744 0.74  0.734]\n",
      " [0.752 0.784 0.77  0.756 0.763 0.757 0.782 0.788 0.768 0.765]\n",
      " [0.818 0.818 0.798 0.813 0.847 0.823 0.823 0.796 0.782 0.805]\n",
      " [0.832 0.814 0.827 0.844 0.817 0.834 0.825 0.854 0.818 0.843]\n",
      " [0.843 0.859 0.849 0.859 0.855 0.83  0.85  0.85  0.848 0.855]\n",
      " [0.862 0.86  0.871 0.862 0.867 0.857 0.855 0.877 0.861 0.864]]\n"
     ]
    }
   ],
   "source": [
    "print(acceptance_rates_list)"
   ]
  },
  {
   "cell_type": "code",
   "execution_count": 32,
   "metadata": {},
   "outputs": [],
   "source": [
    "abs_min_costs = np.min(min_cost_list, axis = 1)\n",
    "mean_acceptance_rates = np.mean(acceptance_rates_list, axis = 1)"
   ]
  },
  {
   "cell_type": "code",
   "execution_count": 26,
   "metadata": {},
   "outputs": [
    {
     "data": {
      "text/plain": [
       "(10, 10)"
      ]
     },
     "execution_count": 26,
     "metadata": {},
     "output_type": "execute_result"
    }
   ],
   "source": [
    "min_cost_list.shape"
   ]
  },
  {
   "cell_type": "code",
   "execution_count": 42,
   "metadata": {},
   "outputs": [
    {
     "data": {
      "text/plain": [
       "435.0180038665094"
      ]
     },
     "execution_count": 42,
     "metadata": {},
     "output_type": "execute_result"
    }
   ],
   "source": [
    "np.min(abs_min_costs)"
   ]
  },
  {
   "cell_type": "code",
   "execution_count": 46,
   "metadata": {},
   "outputs": [
    {
     "data": {
      "image/png": "[encoded data removed]",
      "text/plain": [
       "<Figure size 640x480 with 1 Axes>"
      ]
     },
     "metadata": {},
     "output_type": "display_data"
    }
   ],
   "source": [
    "plt.plot(T_initial_values, mean_acceptance_rates)\n",
    "plt.grid(alpha = 0.6)\n",
    "plt.show()"
   ]
  },
  {
   "cell_type": "code",
   "execution_count": 39,
   "metadata": {},
   "outputs": [
    {
     "data": {
      "text/plain": [
       "[0.04228103568611185,\n",
       " 0.0845620713722237,\n",
       " 0.12684310705833554,\n",
       " 0.1691241427444474,\n",
       " 0.21140517843055925,\n",
       " 0.2536862141166711,\n",
       " 0.29596724980278294,\n",
       " 0.3382482854888948,\n",
       " 0.38052932117500665,\n",
       " 0.4228103568611185]"
      ]
     },
     "execution_count": 39,
     "metadata": {},
     "output_type": "execute_result"
    }
   ],
   "source": [
    "[cooling_schedule(T0, chain_count) for T0 in T_initial_values]"
   ]
  },
  {
   "cell_type": "code",
   "execution_count": 30,
   "metadata": {},
   "outputs": [
    {
     "name": "stdout",
     "output_type": "stream",
     "text": [
      "51\n"
     ]
    }
   ],
   "source": [
    "# eil51\n",
    "cost_function, dcost_function = COST_FUNCTION_PAIRS[0]\n",
    "node_count = cost_function.D.shape[0] \n",
    "print(node_count)\n",
    "cr = 0.95\n",
    "cooling_schedule = GeometricCoolingSchedule(cr)\n",
    "mkov_transition = random_two_opt_transition\n",
    "state_constructor = Lin2opt\n",
    "\n",
    "\n",
    "c_values = np.linspace(1,10, 10)\n",
    "T_initial_values = c_values * np.sqrt(node_count)\n",
    "\n",
    "\n",
    "# for parallelization\n",
    "N_JOBS = 6\n",
    "\n",
    "rngs = generate_rngs(len(T_initial_values))\n",
    "\n",
    "\n",
    "batch_size = 10\n",
    "min_costs_list = []\n",
    "chain_length = 1000\n",
    "T_final = 0.05\n",
    "args = (cost_function, StoppingCriterion.MIN_TEMPERATURE, CostProbing.LATEST_GLOBAL_OPTIMUM, T_final)\n",
    "\n",
    "\n",
    "sa_systems = [SAMinimizer(mkov_transition, dcost_function, cooling_schedule, rng.uniform, state_constructor)\n",
    "                for rng in rngs]\n",
    "\n",
    "min_cost_list = []\n",
    "acceptance_rates_list = []\n",
    "# npz_filename = \"test_final_temperature.npz\"\n",
    "# npz_savepath = save_path(npz_filename)\n",
    "\n",
    "\n",
    "if not exists(npz_filepath):\n",
    "    for i,T0 in enumerate(T_initial_values):\n",
    "        min_costs, acceptance_rates = run_batch(sa_systems[i], batch_size, chain_length, T0, *args)\n",
    "        min_cost_list.append(min_costs)\n",
    "        acceptance_rates_list.append(acceptance_rates)\n",
    "    min_cost_list = np.array(min_cost_list)\n",
    "    acceptance_rates_list = np.array(acceptance_rates_list)\n",
    "\n",
    "else:\n",
    "    save_data = np.load(npz_savepath)\n",
    "    min_cost_list, acceptance_rates_list = save_data['arr_0'], save_data['arr_1']"
   ]
  },
  {
   "cell_type": "code",
   "execution_count": 20,
   "metadata": {},
   "outputs": [],
   "source": [
    "# eil51\n",
    "cost_function, dcost_function = COST_FUNCTION_PAIRS[0]\n",
    "node_count = cost_function.D.shape[0] \n",
    "cr = 0.95\n",
    "cooling_schedule = GeometricCoolingSchedule(cr)\n",
    "mkov_transition = random_two_opt_transition\n",
    "state_constructor = Lin2opt\n",
    "\n",
    "\n",
    "c = 8\n",
    "T_initial = c*np.sqrt(node_count)\n",
    "\n",
    "\n",
    "# for parallelization\n",
    "N_JOBS = 6\n",
    "\n",
    "rng = generate_rngs(1)[0]\n",
    "\n",
    "\n",
    "batch_size = 10\n",
    "chain_length = 1000\n",
    "chain_count = 300\n",
    "args = (cost_function, StoppingCriterion.MKOV_CHAIN_COUNT, CostProbing.LATEST_GLOBAL_OPTIMUM, chain_count)\n",
    "\n",
    "\n",
    "sa_system = SAMinimizer(mkov_transition, dcost_function, cooling_schedule, rng.uniform, state_constructor)\n",
    "\n",
    "npz_filename = \"single_batch_eil51.npz\"\n",
    "npz_filepath = save_path(npz_filename)\n",
    "\n",
    "min_costs = np.full(batch_size, np.float64('nan'))\n",
    "acceptance_rates = np.full(batch_size, np.float64('nan'))\n",
    "\n",
    "if not exists(npz_filepath):\n",
    "    min_costs, acceptance_rates = run_batch(sa_system, batch_size, chain_length, T_initial, *args)\n",
    "    np.savez(npz_filepath, min_costs, acceptance_rates)\n",
    "else:\n",
    "    save_data = np.load(npz_filepath)\n",
    "    min_costs, acceptance_rates = save_data['arr_0'], save_data['arr_1']"
   ]
  },
  {
   "cell_type": "code",
   "execution_count": 23,
   "metadata": {},
   "outputs": [
    {
     "data": {
      "text/plain": [
       "array([494.24997437, 451.76127504, 456.82299706, 457.39624044,\n",
       "       448.13886882, 462.75267396, 452.12383595, 457.4842705 ,\n",
       "       488.69090388, 465.05092196])"
      ]
     },
     "execution_count": 23,
     "metadata": {},
     "output_type": "execute_result"
    }
   ],
   "source": [
    "min_costs"
   ]
  },
  {
   "cell_type": "code",
   "execution_count": 15,
   "metadata": {},
   "outputs": [],
   "source": [
    "# eil51\n",
    "# saves the cost timeseries for one run\n",
    "# \"hairy\" plot of costs\n",
    "rng = generate_rngs(1)[0]\n",
    "\n",
    "chain_length = 1000\n",
    "chain_count = 300\n",
    "args = (cost_function, StoppingCriterion.MKOV_CHAIN_COUNT, CostProbing.ACCEPTED, chain_count)\n",
    "\n",
    "\n",
    "sa_system = SAMinimizer(mkov_transition, dcost_function, cooling_schedule, rng.uniform, state_constructor)\n",
    "\n",
    "npz_filename = \"single_run_eil51.npz\"\n",
    "npz_filepath = save_path(npz_filename)\n",
    "\n",
    "\n",
    "if not exists(npz_filepath):\n",
    "    X0 = np.random.permutation(node_count)\n",
    "    sa_system.run(chain_length, T_initial, X0, cost_function, StoppingCriterion.MKOV_CHAIN_COUNT, CostProbing.ACCEPTED, chain_count)\n",
    "    cost_timeseries = np.array(sa_system.cost_timeseries)\n",
    "    np.savez(npz_filepath, cost_timeseries)\n",
    "else:\n",
    "    save_data = np.load(npz_savepath)\n",
    "    min_costs = save_data['arr_0']"
   ]
  },
  {
   "cell_type": "code",
   "execution_count": 22,
   "metadata": {},
   "outputs": [
    {
     "data": {
      "text/plain": [
       "array([1681.57235258, 1679.81534532, 1670.14224741, ...,  462.35958031,\n",
       "        462.35958031,  462.35958031])"
      ]
     },
     "execution_count": 22,
     "metadata": {},
     "output_type": "execute_result"
    }
   ],
   "source": [
    "cost_timeseries"
   ]
  },
  {
   "cell_type": "code",
   "execution_count": 28,
   "metadata": {},
   "outputs": [],
   "source": [
    "# a280\n",
    "cost_function, dcost_function = COST_FUNCTION_PAIRS[1]\n",
    "node_count = cost_function.D.shape[0] \n",
    "cr = 0.99\n",
    "cooling_schedule = GeometricCoolingSchedule(cr)\n",
    "mkov_transition = random_two_opt_transition\n",
    "state_constructor = Lin2opt\n",
    "\n",
    "\n",
    "c = 10\n",
    "T_initial = c*np.sqrt(node_count)\n",
    "\n",
    "\n",
    "rng = generate_rngs(1)[0]\n",
    "\n",
    "\n",
    "batch_size = 10\n",
    "chain_length = 1000\n",
    "args = (cost_function, StoppingCriterion.MKOV_CHAIN_COUNT, CostProbing.LATEST_GLOBAL_OPTIMUM, chain_count)\n",
    "\n",
    "\n",
    "sa_system = SAMinimizer(mkov_transition, dcost_function, cooling_schedule, rng.uniform, state_constructor)\n",
    "\n",
    "npz_filename = \"single_batch_a280.npz\"\n",
    "npz_filepath = save_path(npz_filename)\n",
    "\n",
    "min_costs = np.full(batch_size, np.float64('nan'))\n",
    "acceptance_rates = np.full(batch_size, np.float64('nan'))\n",
    "\n",
    "if not exists(npz_filepath):\n",
    "    min_costs, acceptance_rates = run_batch(sa_system, batch_size, chain_length, T_initial, *args)\n",
    "    np.savez(npz_filepath, min_costs, acceptance_rates)\n",
    "else:\n",
    "    save_data = np.load(npz_filepath)\n",
    "    min_costs, acceptance_rates = save_data['arr_0'], save_data['arr_1']"
   ]
  },
  {
   "cell_type": "code",
   "execution_count": 29,
   "metadata": {},
   "outputs": [
    {
     "data": {
      "text/plain": [
       "array([3040.24256692, 3060.21167724, 2917.10400487, 3011.0052673 ,\n",
       "       2924.17102743, 3129.26904846, 3138.53001074, 2845.00978002,\n",
       "       2902.48212724, 2948.30688929])"
      ]
     },
     "execution_count": 29,
     "metadata": {},
     "output_type": "execute_result"
    }
   ],
   "source": [
    "min_costs"
   ]
  },
  {
   "cell_type": "code",
   "execution_count": 30,
   "metadata": {},
   "outputs": [],
   "source": [
    "# a280\n",
    "# saves the cost timeseries for one run\n",
    "# \"hairy\" plot of costs\n",
    "rng = generate_rngs(1)[0]\n",
    "\n",
    "chain_length = 1000\n",
    "chain_count = 500\n",
    "args = (cost_function, StoppingCriterion.MKOV_CHAIN_COUNT, CostProbing.LATEST_GLOBAL_OPTIMUM, chain_count)\n",
    "\n",
    "\n",
    "sa_system = SAMinimizer(mkov_transition, dcost_function, cooling_schedule, rng.uniform, state_constructor)\n",
    "\n",
    "npz_filename = \"single_run_eil51.npz\"\n",
    "npz_filepath = save_path(npz_filename)\n",
    "\n",
    "\n",
    "if not exists(npz_filepath):\n",
    "    X0 = np.random.permutation(node_count)\n",
    "    sa_system.run(chain_length, T_initial, X0, cost_function, StoppingCriterion.MKOV_CHAIN_COUNT, CostProbing.ACCEPTED, chain_count)\n",
    "    cost_timeseries = np.array(sa_system.cost_timeseries)\n",
    "    np.savez(npz_filepath, cost_timeseries)\n",
    "else:\n",
    "    save_data = np.load(npz_savepath)\n",
    "    cost_timeseries = save_data['arr_0']"
   ]
  },
  {
   "cell_type": "code",
   "execution_count": 31,
   "metadata": {},
   "outputs": [
    {
     "data": {
      "text/plain": [
       "array([32995.28331067, 32801.88351622, 32790.32898145, ...,\n",
       "        3018.15646294,  3012.03650597,  3012.03650597])"
      ]
     },
     "execution_count": 31,
     "metadata": {},
     "output_type": "execute_result"
    }
   ],
   "source": [
    "cost_timeseries"
   ]
  },
  {
   "cell_type": "code",
   "execution_count": null,
   "metadata": {},
   "outputs": [],
   "source": [
    "# a280\n",
    "# same as above\n",
    "# but final temperature stopping criterion instead\n",
    "rng = generate_rngs(1)[0]\n",
    "\n",
    "chain_length = 1000\n",
    "T_final = 1.0\n",
    "args = (cost_function, StoppingCriterion.MKOV_CHAIN_COUNT, CostProbing.LATEST_GLOBAL_OPTIMUM, chain_count)\n",
    "\n",
    "\n",
    "sa_system = SAMinimizer(mkov_transition, dcost_function, cooling_schedule, rng.uniform, state_constructor)\n",
    "\n",
    "npz_filename = \"single_run_a280.npz\"\n",
    "npz_filepath = save_path(npz_filename)\n",
    "\n",
    "\n",
    "if not exists(npz_filepath):\n",
    "    X0 = np.random.permutation(node_count)\n",
    "    sa_system.run(chain_length, T_initial, X0, cost_function, StoppingCriterion.MKOV_CHAIN_COUNT, CostProbing.ACCEPTED, chain_count)\n",
    "    cost_timeseries = np.array(sa_system.cost_timeseries)\n",
    "    np.savez(npz_filepath, cost_timeseries)\n",
    "else:\n",
    "    save_data = np.load(npz_savepath)\n",
    "    cost_timeseries = save_data['arr_0']"
   ]
  }
 ],
 "metadata": {
  "kernelspec": {
   "display_name": "Python 3",
   "language": "python",
   "name": "python3"
  },
  "language_info": {
   "codemirror_mode": {
    "name": "ipython",
    "version": 3
   },
   "file_extension": ".py",
   "mimetype": "text/x-python",
   "name": "python",
   "nbconvert_exporter": "python",
   "pygments_lexer": "ipython3",
   "version": "3.8.5"
  }
 },
 "nbformat": 4,
 "nbformat_minor": 4
}
