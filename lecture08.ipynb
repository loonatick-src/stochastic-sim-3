{
 "cells": [
  {
   "cell_type": "code",
   "execution_count": 3,
   "metadata": {},
   "outputs": [],
   "source": [
    "import numpy as np\n",
    "f64 = np.float64"
   ]
  },
  {
   "cell_type": "markdown",
   "metadata": {},
   "source": [
    "## Metropolis-Hastings\n",
    "I would like to try and generate the following distribution.\n",
    "\\begin{equation}\n",
    "P[X = i] = f(i;n) = \\frac{i}{Z}\\forall i \\in n\n",
    "\\end{equation}\n",
    "$Z$ is the \"partition function\" that normalizes the probability mass function."
   ]
  },
  {
   "cell_type": "code",
   "execution_count": 212,
   "metadata": {},
   "outputs": [],
   "source": [
    "def pmf_factory(n):\n",
    "    Z = np.sum(np.arange(1,n+1))\n",
    "    def _pmf(i):\n",
    "        if 1 <= i <= n:\n",
    "            return i/Z\n",
    "        else:\n",
    "            return 0\n",
    "    return _pmf\n",
    "    \n",
    "def scaled_pmf_factory(n):\n",
    "    def _pmf(i):\n",
    "        if 1 <= i <= n:\n",
    "            return i\n",
    "        else:\n",
    "            return 0\n",
    "    return  _pmf\n",
    "    \n",
    "def generate_transition_matrix(n, low = 100.0, high = 200.0, eps = 1.0e-7):\n",
    "    q = np.random.uniform(low = low, high = high, size = (n,n))\n",
    "    for i in range(len(q)):\n",
    "        q[i] /= np.sum(q[i])\n",
    "    \n",
    "    for qi in q:\n",
    "        _sum = np.sum(qi)\n",
    "        eps = 1.0e-7\n",
    "        assert np.abs(_sum - 1.0) < eps, f\"Consider providing eps > {eps}\"\n",
    "        \n",
    "    return q\n",
    "\n",
    "def expval(n):\n",
    "    states = np.arange(1, n+1)\n",
    "    return np.sum(states\n",
    "                  * np.array(list(map(pmf_factory(n), states))))\n",
    "\n",
    "assert expval(n) == 67.0"
   ]
  },
  {
   "cell_type": "code",
   "execution_count": 131,
   "metadata": {},
   "outputs": [],
   "source": [
    "def approx_eq(a, b, eps = 1.0e-7):\n",
    "    assert eps > 0\n",
    "    return np.abs(a - b) < eps"
   ]
  },
  {
   "cell_type": "code",
   "execution_count": 203,
   "metadata": {},
   "outputs": [],
   "source": [
    "class HastingsMetropolisMarkovChain:\n",
    "    \"\"\"Assumes orderable states\"\"\"\n",
    "    def __init__(self, q, b, state_space, initial_state = None):\n",
    "        n = len(state_space)\n",
    "        state_type = state_space.dtype\n",
    "        assert n == len(np.unique(state_space)) \n",
    "        assert q.shape == (n, n)\n",
    "        self.b = b\n",
    "        # naively assumes q is an\n",
    "        # irreducible Markov Chain transition matrix\n",
    "        sorted_args = sorted(zip(state_space, q))\n",
    "        self.state_space = np.array([args[0] for args in sorted_args], dtype = state_type)\n",
    "        self.q = np.array([args[1] for args in sorted_args], dtype = np.float64)\n",
    "        if initial_state is None:\n",
    "            self.state = np.random.choice(state_space)\n",
    "        else:\n",
    "            assert initial_state in state_space, f\"Invalide initial state: {initial_state}\"\n",
    "            self.state = initial_state\n",
    "        self.timeseries = [self.state]\n",
    "        \n",
    "    def step(self):\n",
    "        i = np.searchsorted(state_space, self.state)\n",
    "        next_state = self.__class__.weighted_choice(self.state_space, self.q[i])\n",
    "        # for readability\n",
    "        xn = self.state\n",
    "        x = next_state  \n",
    "        \n",
    "        assert self.state_space is not None, \"state space is None\"\n",
    "        assert next_state is not None, \"next_state is None\"\n",
    "        j = np.searchsorted(self.state_space, next_state)\n",
    "        \n",
    "        u = np.random.uniform(low = 0, high = 1, size = 1)\n",
    "        α = self.b(x) * q[j][i] / (self.b(xn) * q[i][j])\n",
    "        \n",
    "        if u < α:\n",
    "            self.state = next_state\n",
    "            \n",
    "        self.timeseries.append(self.state)\n",
    "        \n",
    "    @staticmethod\n",
    "    def weighted_choice(state_space, pmf, eps = 1.0e-7):\n",
    "        assert approx_eq(np.sum(pmf), 1)\n",
    "        u = np.random.uniform(low = 0.0, high = 1.0)\n",
    "        n = len(pmf)\n",
    "        psum = 0.0\n",
    "        for i in range(n):\n",
    "            psum += pmf[i]\n",
    "            if u < psum:\n",
    "                return state_space[i]"
   ]
  },
  {
   "cell_type": "code",
   "execution_count": 213,
   "metadata": {},
   "outputs": [],
   "source": [
    "n = 100\n",
    "b = scaled_pmf_factory(n)\n",
    "π = pmf_factory(n)\n",
    "q = generate_transition_matrix(n)\n",
    "state_space = np.arange(1,n+1)\n",
    "assert len(state_space) == n\n",
    "hmmc_obj = HastingsMetropolisMarkovChain(q, b, state_space, 1)\n",
    "N = 10**5\n",
    "for _ in range(N):\n",
    "    hmmc_obj.step()"
   ]
  },
  {
   "cell_type": "code",
   "execution_count": 214,
   "metadata": {},
   "outputs": [
    {
     "name": "stdout",
     "output_type": "stream",
     "text": [
      "66.73036329296745\n"
     ]
    }
   ],
   "source": [
    "print(np.mean(hmmc_obj.timeseries[1000:]))"
   ]
  }
 ],
 "metadata": {
  "kernelspec": {
   "display_name": "Python 3",
   "language": "python",
   "name": "python3"
  },
  "language_info": {
   "codemirror_mode": {
    "name": "ipython",
    "version": 3
   },
   "file_extension": ".py",
   "mimetype": "text/x-python",
   "name": "python",
   "nbconvert_exporter": "python",
   "pygments_lexer": "ipython3",
   "version": "3.8.5"
  }
 },
 "nbformat": 4,
 "nbformat_minor": 4
}
