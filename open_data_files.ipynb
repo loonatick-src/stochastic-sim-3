{
 "cells": [
  {
   "cell_type": "code",
   "execution_count": 10,
   "id": "58553022",
   "metadata": {},
   "outputs": [],
   "source": [
    "import numpy as np\n",
    "from os.path import exists\n",
    "from os import mkdir\n",
    "\n",
    "SAVEDIR = \"save_data\"\n",
    "PLOTDIR = \"plots\"\n",
    "DATADIR = \"TSP-Configurations\"\n",
    "\n",
    "DIRS = [SAVEDIR, PLOTDIR, DATADIR]\n",
    "\n",
    "def savepath(filename):\n",
    "    return SAVEDIR + f\"/{filename}\"\n",
    "\n",
    "def plot_savepath(filename):\n",
    "    return PLOTDIR + f\"/{filename}\"\n",
    "\n",
    "def data_path(filename):\n",
    "    return DATADIR + f\"/{filename}\"\n",
    "\n",
    "for d in DIRS:\n",
    "    if not exists(d):\n",
    "        mkdir(d)"
   ]
  },
  {
   "cell_type": "code",
   "execution_count": 11,
   "id": "7477d188",
   "metadata": {},
   "outputs": [],
   "source": [
    "def import_tsp_file(tsp_txt):\n",
    "    \n",
    "    filename = tsp_txt\n",
    "    filepath = data_path(filename)\n",
    "    \n",
    "    cities=[]\n",
    "    \n",
    "    with open(filepath) as f:\n",
    "        contents = f.read()\n",
    "        file_as_list = contents.splitlines() \n",
    "\n",
    "        for i, line in enumerate(file_as_list[6:]):\n",
    "            if line.strip() == \"EOF\":\n",
    "                break\n",
    "                \n",
    "            a_list = line.split()\n",
    "            map_object = map(int, a_list)\n",
    "            list_of_integers = list(map_object)\n",
    "            cities.append(list_of_integers)\n",
    "            \n",
    "\n",
    "    return cities\n"
   ]
  },
  {
   "cell_type": "code",
   "execution_count": 12,
   "id": "5bb0ecc1",
   "metadata": {},
   "outputs": [],
   "source": [
    "cities =  import_tsp_file(\"a280.tsp.txt\")"
   ]
  },
  {
   "cell_type": "code",
   "execution_count": 19,
   "metadata": {},
   "outputs": [],
   "source": [
    "def distance(x1, x2):\n",
    "    return np.sqrt(np.sum((x1 - x2)**2))\n",
    "\n",
    "def adj_matrix(cities):\n",
    "    n = len(cities)\n",
    "    a_mat = np.empty((n,n))\n",
    "    for i in range(n):\n",
    "        for j in range(n):\n",
    "            a_mat[i][j] = distance(np.array([cities[i][1], cities[i][2]]), np.array([cities[j][1], cities[j][2]]))\n",
    "    return a_mat"
   ]
  },
  {
   "cell_type": "code",
   "execution_count": 20,
   "metadata": {},
   "outputs": [],
   "source": [
    "def save_adj_matrix(filename):\n",
    "    cities = import_tsp_file(filename)\n",
    "    a_mat = adj_matrix(cities)\n",
    "    npz_filename = data_path(filename) + \".adj\"\n",
    "    np.savez(npz_filename, a_mat)\n",
    "    \n",
    "def load_adj_matrix(filename):\n",
    "    npz_filename = data_path(filename)\n",
    "    save_data = np.load(filename)\n",
    "    return save_data['arr_0']"
   ]
  },
  {
   "cell_type": "code",
   "execution_count": 5,
   "id": "039522b5",
   "metadata": {},
   "outputs": [],
   "source": [
    "def two_opt_swap(route, i, k):\n",
    "    new_route = np.copy(route)\n",
    "    new_route[i:k+1] = route[k:i-1:-1]\n",
    "    return new_route"
   ]
  },
  {
   "cell_type": "code",
   "execution_count": null,
   "id": "de7b43ec",
   "metadata": {},
   "outputs": [],
   "source": []
  }
 ],
 "metadata": {
  "kernelspec": {
   "display_name": "Python 3",
   "language": "python",
   "name": "python3"
  },
  "language_info": {
   "codemirror_mode": {
    "name": "ipython",
    "version": 3
   },
   "file_extension": ".py",
   "mimetype": "text/x-python",
   "name": "python",
   "nbconvert_exporter": "python",
   "pygments_lexer": "ipython3",
   "version": "3.8.5"
  }
 },
 "nbformat": 4,
 "nbformat_minor": 5
}
